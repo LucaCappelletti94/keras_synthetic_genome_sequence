{
 "cells": [
  {
   "cell_type": "code",
   "execution_count": 2,
   "metadata": {},
   "outputs": [],
   "source": [
    "from keras_synthetic_genome_sequence import GapSequence\n",
    "from keras_synthetic_genome_sequence.utils import get_gaps_statistics\n",
    "from ucsc_genomes_downloader import Genome\n",
    "from ucsc_genomes_downloader.utils import tessellate_bed\n",
    "import matplotlib.pyplot as plt\n",
    "import numpy as np\n",
    "from scipy.stats import wilcoxon, pearsonr, ks_2samp, chisquare"
   ]
  },
  {
   "cell_type": "code",
   "execution_count": 13,
   "metadata": {},
   "outputs": [
    {
     "data": {
      "text/plain": [
       "float"
      ]
     },
     "execution_count": 13,
     "metadata": {},
     "output_type": "execute_result"
    }
   ],
   "source": [
    "np.float"
   ]
  },
  {
   "cell_type": "code",
   "execution_count": 10,
   "metadata": {},
   "outputs": [],
   "source": [
    "from humanize import naturalsize"
   ]
  },
  {
   "cell_type": "code",
   "execution_count": 3,
   "metadata": {},
   "outputs": [
    {
     "data": {
      "application/vnd.jupyter.widget-view+json": {
       "model_id": "",
       "version_major": 2,
       "version_minor": 0
      },
      "text/plain": [
       "HBox(children=(IntProgress(value=0, description='Loading chromosomes for genome hg19', layout=Layout(flex='2')…"
      ]
     },
     "metadata": {},
     "output_type": "display_data"
    },
    {
     "name": "stdout",
     "output_type": "stream",
     "text": [
      "\r"
     ]
    },
    {
     "data": {
      "application/vnd.jupyter.widget-view+json": {
       "model_id": "",
       "version_major": 2,
       "version_minor": 0
      },
      "text/plain": [
       "HBox(children=(IntProgress(value=0, description='Rendering gaps in hg19', layout=Layout(flex='2'), max=25, sty…"
      ]
     },
     "metadata": {},
     "output_type": "display_data"
    },
    {
     "name": "stdout",
     "output_type": "stream",
     "text": [
      "\r"
     ]
    }
   ],
   "source": [
    "h = Genome(\"hg19\").filled()"
   ]
  },
  {
   "cell_type": "code",
   "execution_count": 12,
   "metadata": {},
   "outputs": [
    {
     "data": {
      "text/plain": [
       "'91.5 GB'"
      ]
     },
     "execution_count": 12,
     "metadata": {},
     "output_type": "execute_result"
    }
   ],
   "source": [
    "naturalsize((h.chromEnd-h.chromStart).sum()*4*8)"
   ]
  },
  {
   "cell_type": "code",
   "execution_count": 9,
   "metadata": {},
   "outputs": [],
   "source": [
    "assemblies = (\"hg19\", \"hg38\", \"mm9\", \"mm10\")"
   ]
  },
  {
   "cell_type": "code",
   "execution_count": 10,
   "metadata": {},
   "outputs": [],
   "source": [
    "window_size = 200\n",
    "batch_size = 50000\n",
    "max_gap_size = 3"
   ]
  },
  {
   "cell_type": "code",
   "execution_count": 12,
   "metadata": {},
   "outputs": [
    {
     "data": {
      "application/vnd.jupyter.widget-view+json": {
       "model_id": "",
       "version_major": 2,
       "version_minor": 0
      },
      "text/plain": [
       "HBox(children=(IntProgress(value=0, description='Loading chromosomes for genome hg38', layout=Layout(flex='2')…"
      ]
     },
     "metadata": {},
     "output_type": "display_data"
    },
    {
     "data": {
      "application/vnd.jupyter.widget-view+json": {
       "model_id": "",
       "version_major": 2,
       "version_minor": 0
      },
      "text/plain": [
       "HBox(children=(IntProgress(value=0, description='Rendering gaps in hg38', layout=Layout(flex='2'), max=25, sty…"
      ]
     },
     "metadata": {},
     "output_type": "display_data"
    },
    {
     "data": {
      "application/vnd.jupyter.widget-view+json": {
       "model_id": "",
       "version_major": 2,
       "version_minor": 0
      },
      "text/plain": [
       "HBox(children=(IntProgress(value=0, description='Rendering sequences in hg38', layout=Layout(flex='2'), max=19…"
      ]
     },
     "metadata": {},
     "output_type": "display_data"
    },
    {
     "data": {
      "application/vnd.jupyter.widget-view+json": {
       "model_id": "",
       "version_major": 2,
       "version_minor": 0
      },
      "text/plain": [
       "HBox(children=(IntProgress(value=0, description='Loading chromosomes for genome hg38', layout=Layout(flex='2')…"
      ]
     },
     "metadata": {},
     "output_type": "display_data"
    },
    {
     "data": {
      "application/vnd.jupyter.widget-view+json": {
       "model_id": "",
       "version_major": 2,
       "version_minor": 0
      },
      "text/plain": [
       "HBox(children=(IntProgress(value=0, description='Rendering gaps in hg38', layout=Layout(flex='2'), max=1, styl…"
      ]
     },
     "metadata": {},
     "output_type": "display_data"
    },
    {
     "data": {
      "application/vnd.jupyter.widget-view+json": {
       "model_id": "",
       "version_major": 2,
       "version_minor": 0
      },
      "text/plain": [
       "HBox(children=(IntProgress(value=0, description='Tasselizing windows', layout=Layout(flex='2'), max=169, style…"
      ]
     },
     "metadata": {},
     "output_type": "display_data"
    },
    {
     "data": {
      "application/vnd.jupyter.widget-view+json": {
       "model_id": "",
       "version_major": 2,
       "version_minor": 0
      },
      "text/plain": [
       "HBox(children=(IntProgress(value=0, description='Loading chromosomes for genome hg38', layout=Layout(flex='2')…"
      ]
     },
     "metadata": {},
     "output_type": "display_data"
    },
    {
     "data": {
      "application/vnd.jupyter.widget-view+json": {
       "model_id": "",
       "version_major": 2,
       "version_minor": 0
      },
      "text/plain": [
       "HBox(children=(IntProgress(value=0, description='Rendering sequences in hg38', layout=Layout(flex='2'), max=11…"
      ]
     },
     "metadata": {},
     "output_type": "display_data"
    },
    {
     "data": {
      "application/vnd.jupyter.widget-view+json": {
       "model_id": "",
       "version_major": 2,
       "version_minor": 0
      },
      "text/plain": [
       "HBox(children=(IntProgress(value=0, description='Converting nucleotides to numeric classes', layout=Layout(fle…"
      ]
     },
     "metadata": {},
     "output_type": "display_data"
    },
    {
     "data": {
      "application/vnd.jupyter.widget-view+json": {
       "model_id": "",
       "version_major": 2,
       "version_minor": 0
      },
      "text/plain": [
       "HBox(children=(IntProgress(value=0, description='Generating synthetic gaps', layout=Layout(flex='2'), max=24, …"
      ]
     },
     "metadata": {},
     "output_type": "display_data"
    },
    {
     "name": "stdout",
     "output_type": "stream",
     "text": [
      "hg38\n",
      "Gaps number 235\n",
      "wilcoxon WilcoxonResult(statistic=7419.0, pvalue=0.0025966013781234085)\n",
      "ks_2samp Ks_2sampResult(statistic=0.24, pvalue=1.8266119303942767e-05)\n"
     ]
    }
   ],
   "source": [
    "for assembly in assemblies[1:2]:\n",
    "    number, mean, covariance = get_gaps_statistics(\n",
    "        assembly=assembly,\n",
    "        max_gap_size=max_gap_size,\n",
    "        window_size=window_size\n",
    "    )\n",
    "\n",
    "    genome = Genome(assembly, chromosomes=[\"chr1\"])\n",
    "    ground_truth = tessellate_bed(genome.filled(), window_size=window_size)\n",
    "\n",
    "    gap_sequence = GapSequence(\n",
    "        assembly=assembly,\n",
    "        bed=ground_truth,\n",
    "        gaps_mean=mean,\n",
    "        gaps_covariance=covariance,\n",
    "        batch_size=batch_size\n",
    "    )\n",
    "    \n",
    "    X, y = gap_sequence[0]\n",
    "    synthetic_mean = np.isclose(X, 0.25).all(axis=-1).mean(axis=0)\n",
    "    \n",
    "    plt.bar(range(len(synthetic_mean)), synthetic_mean, width=1)\n",
    "    plt.title(f\"Synthetic gaps frequencies ({assembly})\")\n",
    "    plt.ylabel(\"Synthetic gaps frequency\")\n",
    "    plt.xlabel(\"Nucleotides position\")\n",
    "    plt.savefig(f\"synthetic_gaps_{assembly}.png\")\n",
    "    plt.close()\n",
    "    \n",
    "    plt.bar(range(len(mean)), mean, width=1)\n",
    "    plt.title(f\"Biological gaps frequencies ({assembly})\")\n",
    "    plt.ylabel(\"Biological gaps frequency\")\n",
    "    plt.xlabel(\"Nucleotides position\")\n",
    "    plt.savefig(f\"biological_gaps_{assembly}.png\")\n",
    "    plt.close()\n",
    "    \n",
    "    print(assembly)\n",
    "    print(\"Gaps number\", number)\n",
    "    for test in (wilcoxon, ks_2samp):\n",
    "        print(test.__name__, test(mean, synthetic_mean))"
   ]
  },
  {
   "cell_type": "code",
   "execution_count": null,
   "metadata": {},
   "outputs": [],
   "source": []
  }
 ],
 "metadata": {
  "kernelspec": {
   "display_name": "Python 3",
   "language": "python",
   "name": "python3"
  },
  "language_info": {
   "codemirror_mode": {
    "name": "ipython",
    "version": 3
   },
   "file_extension": ".py",
   "mimetype": "text/x-python",
   "name": "python",
   "nbconvert_exporter": "python",
   "pygments_lexer": "ipython3",
   "version": "3.7.4"
  }
 },
 "nbformat": 4,
 "nbformat_minor": 2
}
